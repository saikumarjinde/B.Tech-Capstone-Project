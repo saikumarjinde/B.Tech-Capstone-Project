{
  "cells": [
    {
      "cell_type": "markdown",
      "id": "51d88945-59e3-4e9a-b091-338ae5ee7fe8",
      "metadata": {
        "id": "51d88945-59e3-4e9a-b091-338ae5ee7fe8"
      },
      "source": [
        "![INTTRVU_logo_Jupyter_notebook.jpg](attachment:648ea659-7592-45c1-bd76-18800c6768cd.jpg)"
      ]
    },
    {
      "cell_type": "code",
      "execution_count": null,
      "id": "7b7409d0-350e-4c68-b27e-e63bfab2e5e9",
      "metadata": {
        "id": "7b7409d0-350e-4c68-b27e-e63bfab2e5e9"
      },
      "outputs": [],
      "source": [
        " ### Please name your assignment file using the following format: Your Name_Assignment_Assignment Number. EX: INTTRVU_Assignment_1"
      ]
    },
    {
      "cell_type": "markdown",
      "id": "05325c35-c836-4aef-ae87-5be63d643c45",
      "metadata": {
        "id": "05325c35-c836-4aef-ae87-5be63d643c45"
      },
      "source": [
        "# kindly perform coding in the blank cells provided below the questions. Once completed, please share this python file for review on mentor@inttrvu.ai"
      ]
    },
    {
      "cell_type": "markdown",
      "id": "f26fa9d5-85f4-4c40-9719-374966bce875",
      "metadata": {
        "id": "f26fa9d5-85f4-4c40-9719-374966bce875"
      },
      "source": [
        "### 1. Create a list with numbers 1 to 10 in it ([1,2,3….10]) Write a for loop on this list to sum up all numbers in the list except 5 and 7. Print the result"
      ]
    },
    {
      "cell_type": "code",
      "execution_count": 54,
      "id": "3svKPcJDsPME",
      "metadata": {
        "colab": {
          "base_uri": "https://localhost:8080/"
        },
        "id": "3svKPcJDsPME",
        "outputId": "95277c29-013c-420f-b7b6-f84e14f31462"
      },
      "outputs": [
        {
          "name": "stdout",
          "output_type": "stream",
          "text": [
            "43\n"
          ]
        }
      ],
      "source": [
        "li = [x for x in range(1,11)]\n",
        "li\n",
        "sum2 = 0\n",
        "for number in li:\n",
        "  if number != 5 and number != 7:\n",
        "    sum2 += number\n",
        "\n",
        "print(sum2)"
      ]
    },
    {
      "cell_type": "code",
      "execution_count": 53,
      "id": "41gAH3hmwZQX",
      "metadata": {
        "colab": {
          "base_uri": "https://localhost:8080/"
        },
        "id": "41gAH3hmwZQX",
        "outputId": "db567be7-8a2a-4fe4-baf5-c774836e3fba"
      },
      "outputs": [
        {
          "name": "stdout",
          "output_type": "stream",
          "text": [
            "Enter numbers between 1 to 10 which should exclude sum: 2 5\n"
          ]
        },
        {
          "data": {
            "text/plain": [
              "48"
            ]
          },
          "execution_count": 53,
          "metadata": {},
          "output_type": "execute_result"
        }
      ],
      "source": [
        "li = list(range(1,11))\n",
        "li\n",
        "sum1 = 0\n",
        "#taking excluding number from user\n",
        "exclude_num = list(map(int,input(\"Enter numbers between 1 to 10 which should exclude sum: \").split()))\n",
        "for number in li:\n",
        "  if number not in exclude_num:\n",
        "    sum1 += number\n",
        "\n",
        "sum1"
      ]
    },
    {
      "cell_type": "markdown",
      "id": "bcca8e91-d1c2-4928-98ce-a7521efc69f7",
      "metadata": {
        "id": "bcca8e91-d1c2-4928-98ce-a7521efc69f7"
      },
      "source": [
        "### 2. Write a while loop to create a list with numbers from 1 to 100. When inserting new number in the list, skip every number which is divisible by 3. Print the result. Tip: To check whether number is divisible by 3 you can use % operator"
      ]
    },
    {
      "cell_type": "code",
      "execution_count": 43,
      "id": "67e2067d-53bc-4a7b-8e1c-2ada03a81d45",
      "metadata": {
        "colab": {
          "base_uri": "https://localhost:8080/"
        },
        "id": "67e2067d-53bc-4a7b-8e1c-2ada03a81d45",
        "outputId": "627d4ca1-dd50-4d75-e2b0-e28f00f5e23a"
      },
      "outputs": [
        {
          "name": "stdout",
          "output_type": "stream",
          "text": [
            "[1, 2, 4, 5, 7, 8, 10, 11, 13, 14, 16, 17, 19, 20, 22, 23, 25, 26, 28, 29, 31, 32, 34, 35, 37, 38, 40, 41, 43, 44, 46, 47, 49, 50, 52, 53, 55, 56, 58, 59, 61, 62, 64, 65, 67, 68, 70, 71, 73, 74, 76, 77, 79, 80, 82, 83, 85, 86, 88, 89, 91, 92, 94, 95, 97, 98, 100] "
          ]
        }
      ],
      "source": [
        "li = []\n",
        "n = 1\n",
        "while(n<=100):\n",
        "  if not n % 3 == 0:  #omitting the numbers which are divisible by 3\n",
        "    li.append(n)\n",
        "  n = n+1 #incrementing the initializer\n",
        "print(li,end = \" \")"
      ]
    },
    {
      "cell_type": "markdown",
      "id": "cb9579ac-590c-488f-93a3-1dc06e1cce2d",
      "metadata": {
        "id": "cb9579ac-590c-488f-93a3-1dc06e1cce2d"
      },
      "source": [
        "### 3. Write a program that prints the first 10 natural numbers."
      ]
    },
    {
      "cell_type": "code",
      "execution_count": 44,
      "id": "f27390cb-ba97-4dfd-aea1-afb302590665",
      "metadata": {
        "colab": {
          "base_uri": "https://localhost:8080/"
        },
        "id": "f27390cb-ba97-4dfd-aea1-afb302590665",
        "outputId": "c3911abe-1ef1-49cb-f4b4-0f832988cd1b"
      },
      "outputs": [
        {
          "name": "stdout",
          "output_type": "stream",
          "text": [
            "1 2 3 4 5 6 7 8 9 10 "
          ]
        }
      ],
      "source": [
        "for number in range(1,11):\n",
        "  print(number,end = \" \")"
      ]
    },
    {
      "cell_type": "markdown",
      "id": "afab0401-7155-472c-9c6d-bec0fce6a2cd",
      "metadata": {
        "id": "afab0401-7155-472c-9c6d-bec0fce6a2cd"
      },
      "source": [
        "### 4.Write a python code to print the summation of all the numbers from 1 to 100"
      ]
    },
    {
      "cell_type": "code",
      "execution_count": 56,
      "id": "9fd0d6b0-f107-4181-aa1e-de08dedd9110",
      "metadata": {
        "colab": {
          "base_uri": "https://localhost:8080/"
        },
        "id": "9fd0d6b0-f107-4181-aa1e-de08dedd9110",
        "outputId": "d5715562-92f6-4526-f1ad-7e16a66ee37d"
      },
      "outputs": [
        {
          "name": "stdout",
          "output_type": "stream",
          "text": [
            "5050\n"
          ]
        }
      ],
      "source": [
        "numbers = list(range(1,101))\n",
        "#numbers\n",
        "del sum\n",
        "print(sum(numbers))"
      ]
    },
    {
      "cell_type": "markdown",
      "id": "8efa7c77-6306-4a39-9a3b-ab067d2cb863",
      "metadata": {
        "id": "8efa7c77-6306-4a39-9a3b-ab067d2cb863"
      },
      "source": [
        "### 5.Write a Python program to find the common elements between two lists.\n",
        "list1 = [11,2,190,43,23,65,19] list2 = [12,11,121,190,43,23,76,190]"
      ]
    },
    {
      "cell_type": "code",
      "execution_count": 62,
      "id": "luD_qFCd1SKs",
      "metadata": {
        "colab": {
          "base_uri": "https://localhost:8080/"
        },
        "id": "luD_qFCd1SKs",
        "outputId": "dd00d303-2f66-499e-bedc-d1d127837298"
      },
      "outputs": [
        {
          "data": {
            "text/plain": [
              "[43, 11, 190, 23]"
            ]
          },
          "execution_count": 62,
          "metadata": {},
          "output_type": "execute_result"
        }
      ],
      "source": [
        "\n",
        "list1 = [11,2,190,43,23,65,19]\n",
        "list2 = [12,11,121,190,43,23,76,190]\n",
        "common_elements = list(set(list1) & set(list2))  #& is intersection\n",
        "common_elements"
      ]
    },
    {
      "cell_type": "code",
      "execution_count": 60,
      "id": "hMiMbnwi0Oyu",
      "metadata": {
        "colab": {
          "base_uri": "https://localhost:8080/"
        },
        "id": "hMiMbnwi0Oyu",
        "outputId": "6178cbba-36e4-4411-be48-46793272ded6"
      },
      "outputs": [
        {
          "name": "stdout",
          "output_type": "stream",
          "text": [
            "[11, 190, 43, 23]\n"
          ]
        }
      ],
      "source": [
        "list1 = [11,2,190,43,23,65,19]\n",
        "list2 = [12,11,121,190,43,23,76,190]\n",
        "l = []\n",
        "for i in list1:\n",
        "  for j in list2:\n",
        "    if i not in l:\n",
        "      if i == j:\n",
        "        l.append(i)\n",
        "\n",
        "print(l)"
      ]
    },
    {
      "cell_type": "code",
      "execution_count": 63,
      "id": "fd2fe4f7-40a7-462e-9901-fdd11e028254",
      "metadata": {
        "colab": {
          "base_uri": "https://localhost:8080/"
        },
        "id": "fd2fe4f7-40a7-462e-9901-fdd11e028254",
        "outputId": "743b6557-e608-40c1-c5c5-b58580ed0813"
      },
      "outputs": [
        {
          "data": {
            "text/plain": [
              "[43, 11, 190, 23]"
            ]
          },
          "execution_count": 63,
          "metadata": {},
          "output_type": "execute_result"
        }
      ],
      "source": [
        "#using list comprehension\n",
        "list1 = [11,2,190,43,23,65,19]\n",
        "list2 = [12,11,121,190,43,23,76,190]\n",
        "common_elements = [num for num in list1 if num in list2]\n",
        "common_elements = list(set(common_elements))\n",
        "common_elements"
      ]
    },
    {
      "cell_type": "markdown",
      "id": "5dc7246f-8fe9-4a4b-b9da-6e40abfb8432",
      "metadata": {
        "id": "5dc7246f-8fe9-4a4b-b9da-6e40abfb8432"
      },
      "source": [
        "### 6.Write a python code to create separate lists of Even and Odd numbers from a list. [21,44,22,878,55,90,17,68,69,91]"
      ]
    },
    {
      "cell_type": "code",
      "execution_count": 74,
      "id": "4osTzVLn5ZNz",
      "metadata": {
        "colab": {
          "base_uri": "https://localhost:8080/"
        },
        "id": "4osTzVLn5ZNz",
        "outputId": "6375d947-f024-4e09-c1dd-d3574bb810d9"
      },
      "outputs": [
        {
          "name": "stdout",
          "output_type": "stream",
          "text": [
            "[21, 55, 17, 69, 91] [44, 22, 878, 90, 68]\n"
          ]
        }
      ],
      "source": [
        "li = [21,44,22,878,55,90,17,68,69,91]\n",
        "odd_li = []\n",
        "even_li = []\n",
        "\n",
        "for num in li:\n",
        "  if num & 1 == 0:  #The last bit of every even number is 0, so we are using this method\n",
        "    even_li.append(num)\n",
        "  else:\n",
        "    odd_li.append(num)  #the last bit of every odd number is 1\n",
        "\n",
        "print(odd_li,even_li)"
      ]
    },
    {
      "cell_type": "code",
      "execution_count": 75,
      "id": "2f389614-873e-486b-bce9-ef988d853562",
      "metadata": {
        "colab": {
          "base_uri": "https://localhost:8080/"
        },
        "id": "2f389614-873e-486b-bce9-ef988d853562",
        "outputId": "dac90199-2bd5-4ac4-d8a5-b790bdc90ffa"
      },
      "outputs": [
        {
          "name": "stdout",
          "output_type": "stream",
          "text": [
            "[21, 55, 17, 69, 91] [44, 22, 878, 90, 68]\n"
          ]
        }
      ],
      "source": [
        "li = [21,44,22,878,55,90,17,68,69,91]\n",
        "odd_li = []\n",
        "even_li = []\n",
        "\n",
        "for num in li:\n",
        "  if num % 2 == 0:\n",
        "    even_li.append(num)\n",
        "  else:\n",
        "    odd_li.append(num)\n",
        "\n",
        "print(odd_li,even_li)"
      ]
    },
    {
      "cell_type": "markdown",
      "id": "c0c54264-0cea-4c58-b8d5-b85fa5f79058",
      "metadata": {
        "id": "c0c54264-0cea-4c58-b8d5-b85fa5f79058"
      },
      "source": [
        "### 7.Calculate the sum of all numbers in a list using a loop. [21,44,767,98,37]"
      ]
    },
    {
      "cell_type": "code",
      "execution_count": 68,
      "id": "9a1e3137-d220-4117-9ad8-2363c7e7ea44",
      "metadata": {
        "colab": {
          "base_uri": "https://localhost:8080/"
        },
        "id": "9a1e3137-d220-4117-9ad8-2363c7e7ea44",
        "outputId": "6527a8f1-cc8a-4276-803c-be4b92f5b5e1"
      },
      "outputs": [
        {
          "name": "stdout",
          "output_type": "stream",
          "text": [
            "967\n"
          ]
        },
        {
          "data": {
            "text/plain": [
              "967"
            ]
          },
          "execution_count": 68,
          "metadata": {},
          "output_type": "execute_result"
        }
      ],
      "source": [
        "s = 0\n",
        "li =  [21,44,767,98,37]\n",
        "for i in li:\n",
        "   s += i\n",
        "print(s)\n",
        "sum(li)  #sum method to sum all the elements of the list"
      ]
    },
    {
      "cell_type": "markdown",
      "id": "286f7502-3e82-460e-bbbc-58b4930d2649",
      "metadata": {
        "id": "286f7502-3e82-460e-bbbc-58b4930d2649"
      },
      "source": [
        "### 8. Write a python code to check if a number is positive, negative, or zero."
      ]
    },
    {
      "cell_type": "code",
      "execution_count": 72,
      "id": "1RSaLAaL4vc7",
      "metadata": {
        "colab": {
          "base_uri": "https://localhost:8080/"
        },
        "id": "1RSaLAaL4vc7",
        "outputId": "b3a0e88c-ed9e-45a1-c637-f8a015310b4b"
      },
      "outputs": [
        {
          "name": "stdout",
          "output_type": "stream",
          "text": [
            "Enter number : -3\n",
            "Negative\n"
          ]
        }
      ],
      "source": [
        "#using right shift in bitwise\n",
        "num = int(input(\"Enter number : \"))\n",
        "if num >> 31 == 0:\n",
        "  print(\"Positive\")\n",
        "elif num >> 31 == -1:\n",
        "  print(\"Negative\")\n",
        "else:\n",
        "  print(\"zero\")"
      ]
    },
    {
      "cell_type": "code",
      "execution_count": 69,
      "id": "8830d505-a613-425f-ba7d-0f369afed9ab",
      "metadata": {
        "colab": {
          "base_uri": "https://localhost:8080/"
        },
        "id": "8830d505-a613-425f-ba7d-0f369afed9ab",
        "outputId": "f1e91a4b-f788-4666-f96e-e366ea014442"
      },
      "outputs": [
        {
          "name": "stdout",
          "output_type": "stream",
          "text": [
            "Enter number : -22\n",
            "Negative\n"
          ]
        }
      ],
      "source": [
        "#regular method\n",
        "num = int(input(\"Enter number : \"))\n",
        "if num == 0:\n",
        "  print(\"Zero\")\n",
        "elif num < 0:\n",
        "  print(\"Negative\")\n",
        "else:\n",
        "  print(\"Positive\")"
      ]
    },
    {
      "cell_type": "markdown",
      "id": "a622d696-c1ae-4bbd-8e07-85723780086d",
      "metadata": {
        "id": "a622d696-c1ae-4bbd-8e07-85723780086d"
      },
      "source": [
        "### 9. Find the length of the longest word in a string: ‘Data Science and Machine Learning’"
      ]
    },
    {
      "cell_type": "code",
      "execution_count": 33,
      "id": "1f1db3cb-79c4-4a0a-b0f3-db162b8350ae",
      "metadata": {
        "colab": {
          "base_uri": "https://localhost:8080/"
        },
        "id": "1f1db3cb-79c4-4a0a-b0f3-db162b8350ae",
        "outputId": "ddcc1566-1cf9-4025-8594-3b65bea5234c"
      },
      "outputs": [
        {
          "name": "stdout",
          "output_type": "stream",
          "text": [
            "Enter string: Data Science and Machine Learning techniques\n",
            "The length of the longest word in a string is :  10\n"
          ]
        }
      ],
      "source": [
        "s = input(\"Enter string: \")\n",
        "longest_word_length = 0\n",
        "current_word_length = 0\n",
        "\n",
        "for char in s:\n",
        "  if char != \" \":\n",
        "    current_word_length += 1\n",
        "\n",
        "  else:\n",
        "    if current_word_length > longest_word_length:  #checking if current word length > longest word length\n",
        "      longest_word_length = current_word_length\n",
        "    #print(current_word_length) #returns the length of the current word\n",
        "    current_word_length = 0  #resetting the current word length\n",
        "#print(current_word_length)  #gives the length of word which is at the end of the string by without any space at the end\n",
        "#final check for the last word coz if the string doesn't end with space\n",
        "if current_word_length > longest_word_length:\n",
        "  longest_word_length = current_word_length\n",
        "print(\"The length of the longest word in a string is : \",longest_word_length)"
      ]
    },
    {
      "cell_type": "markdown",
      "id": "1be50dd0-f73a-4865-841d-f5de054dccf1",
      "metadata": {
        "id": "1be50dd0-f73a-4865-841d-f5de054dccf1"
      },
      "source": [
        "### 10.Write a program to calculate the sum of squares of all numbers from 1 to 10 using a while loop."
      ]
    },
    {
      "cell_type": "code",
      "execution_count": 37,
      "id": "0dc12de3-b9a4-4be2-9283-3b95ed5d9912",
      "metadata": {
        "colab": {
          "base_uri": "https://localhost:8080/"
        },
        "id": "0dc12de3-b9a4-4be2-9283-3b95ed5d9912",
        "outputId": "d6fd54e0-8b44-49b4-e3d6-7da8fea392ea"
      },
      "outputs": [
        {
          "name": "stdout",
          "output_type": "stream",
          "text": [
            "385\n"
          ]
        }
      ],
      "source": [
        "s = 0\n",
        "for num in range(1,11):\n",
        "  sq = num * num\n",
        "  s = s + sq\n",
        "print(s)"
      ]
    },
    {
      "cell_type": "code",
      "execution_count": null,
      "id": "x3B4Tj7hwnil",
      "metadata": {
        "id": "x3B4Tj7hwnil"
      },
      "outputs": [],
      "source": []
    }
  ],
  "metadata": {
    "colab": {
      "provenance": []
    },
    "kernelspec": {
      "display_name": "Python 3 (ipykernel)",
      "language": "python",
      "name": "python3"
    },
    "language_info": {
      "codemirror_mode": {
        "name": "ipython",
        "version": 3
      },
      "file_extension": ".py",
      "mimetype": "text/x-python",
      "name": "python",
      "nbconvert_exporter": "python",
      "pygments_lexer": "ipython3",
      "version": "3.11.7"
    }
  },
  "nbformat": 4,
  "nbformat_minor": 5
}
